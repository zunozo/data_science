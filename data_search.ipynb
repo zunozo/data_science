{
 "cells": [
  {
   "cell_type": "markdown",
   "metadata": {},
   "source": [
    "## 3. 데이터 탐색\n",
    "- 분석할 데이터의 전체적인 특성을 살펴보는 것을 데이터 탐색이라고 한다.\n",
    "- 데이터 탐색에는 데이터를 시각화하여 그래프로 그려보는 방법이 기본적으로 사용된다.\n",
    "- 히스토그램, 박스 플롯, 막대그래프, 스캐터 플롯 사용법을 배운다."
   ]
  },
  {
   "cell_type": "markdown",
   "metadata": {},
   "source": [
    "### 데이터 읽기\n",
    "\n",
    "#### 탐색적 분석\n",
    "- 데이터 탐색이란 본격적인 데이터 분석이나 머신러닝을 수행하기에 앞서 데이터의 전체적인 특성을 살펴보는 것을 말한다. 데이터 탐색 자체도 중요한 데이터 분석의 하나이며 이를 탐색적 데이터 분석(exploratory data analysis: EDA)라고 한다.\n",
    "\n",
    "- 데이터 탐색과정에서 주로 시각화(visualization)을 사용한다.\n",
    "- 기본적인 통계적 특성 파악하며 숫자형 데이터의 평균, 최대값, 최소값, 표준편차, 분산 등을 알아본다. 탐색적 분석에는 시각화 도구 이용한다.\n",
    "\n",
    "#### 데이터프레임으로 읽기\n",
    "- 파이썬에서 데이터 탐색을 위해서 데이터를 데이터프레임에 데이터를 담고 분석하면 편리하다. 판다스가 제공하는 read 관련 함수를 사용하면 파일을 데이터프레임 형태로 바로 변환하면서 읽을 수 있다.\n",
    "- 엑셀 형태의 파일 : pd.read_excel\n",
    "- csv(','로 구분된파일) : pd.read_csv"
   ]
  },
  {
   "cell_type": "markdown",
   "metadata": {},
   "source": [
    "####  시각화\n",
    "- 데이터의 특성을 파악하기 위해서 박스플롯, 바차트, 히스토그램, 스캐터플롯 등을 자주 사용."
   ]
  },
  {
   "cell_type": "markdown",
   "metadata": {},
   "source": [
    "##  데이터 전처리\n",
    "- 데이터 전처리(preprocessing)란 데이터를 분석에 사용할 때 성능이 더 좋게 나오도록 데이터를 수정하거나 형태를 변형하는 것을 말한다.\n",
    "- 수집한 데이터를 먼시러닝 등에 바로 사용할 수 있는 경우는 거의 없다. 수집한 데이터가 너무 크면 이를 한 번에 분석하기 어려우므로 적절한 크기로 줄여야 한다.\n",
    "- 데이터가 비정형이라면 이를 정형 데이터로 바꾸어야 한다. 이미지나 텍스트와 같은 비정형 데이터의 의미를 컴퓨터가 바로 다룰 수는 없다.\n",
    "\n",
    "- 빠진 값을 채워 넣거나 오류를 수정하는 것을 데이터 정제(cleaning)이라고도 한다.\n",
    "\n",
    "### 결측치 처리\n",
    "- 데이터 전처리에서 가장 중요한 과정은 빠진 값, 즉 결측치 를 처리하는 것이다.\n",
    "- 결측치를 처리하는 방법은 크게 세가지가 있다.\n",
    "- 결측치가 포함되어 있는 샘플 항목을 모두 버리거나, 결측치를 적절한 다른 값으로 대체하거나, 아니면 결측치를 NA(not availalbe)라고 표시하여 다음의 데이터 처리 단계로 그대로 넘겨주는 방법도 있다.   \n",
    "결측치가 포함된 샘플 항목을 모두 버리는 방법   \n",
    "결측치를 적절한 값으로 대체   \n",
    "분석 단계로 결측치 처리를 넘김\n",
    "\n"
   ]
  },
  {
   "cell_type": "markdown",
   "metadata": {},
   "source": [
    "##### 결측치가 포함된 샘플 항목을 모두 버리는 방법"
   ]
  },
  {
   "cell_type": "code",
   "execution_count": 2,
   "metadata": {},
   "outputs": [
    {
     "data": {
      "text/html": [
       "<div>\n",
       "<style scoped>\n",
       "    .dataframe tbody tr th:only-of-type {\n",
       "        vertical-align: middle;\n",
       "    }\n",
       "\n",
       "    .dataframe tbody tr th {\n",
       "        vertical-align: top;\n",
       "    }\n",
       "\n",
       "    .dataframe thead th {\n",
       "        text-align: right;\n",
       "    }\n",
       "</style>\n",
       "<table border=\"1\" class=\"dataframe\">\n",
       "  <thead>\n",
       "    <tr style=\"text-align: right;\">\n",
       "      <th></th>\n",
       "      <th>a</th>\n",
       "      <th>b</th>\n",
       "      <th>c</th>\n",
       "      <th>d</th>\n",
       "    </tr>\n",
       "  </thead>\n",
       "  <tbody>\n",
       "    <tr>\n",
       "      <th>0</th>\n",
       "      <td>0.64</td>\n",
       "      <td>0.45</td>\n",
       "      <td>0.95</td>\n",
       "      <td>0.26</td>\n",
       "    </tr>\n",
       "    <tr>\n",
       "      <th>1</th>\n",
       "      <td>0.04</td>\n",
       "      <td>0.15</td>\n",
       "      <td>0.52</td>\n",
       "      <td>0.50</td>\n",
       "    </tr>\n",
       "    <tr>\n",
       "      <th>2</th>\n",
       "      <td>0.28</td>\n",
       "      <td>0.81</td>\n",
       "      <td>0.22</td>\n",
       "      <td>0.84</td>\n",
       "    </tr>\n",
       "  </tbody>\n",
       "</table>\n",
       "</div>"
      ],
      "text/plain": [
       "      a     b     c     d\n",
       "0  0.64  0.45  0.95  0.26\n",
       "1  0.04  0.15  0.52  0.50\n",
       "2  0.28  0.81  0.22  0.84"
      ]
     },
     "execution_count": 2,
     "metadata": {},
     "output_type": "execute_result"
    }
   ],
   "source": [
    "import pandas as pd\n",
    "import numpy as np\n",
    "x=np.random.rand(3,4).round(2)\n",
    "df = pd.DataFrame(x, columns=['a','b','c','d'])\n",
    "df"
   ]
  },
  {
   "cell_type": "code",
   "execution_count": 4,
   "metadata": {},
   "outputs": [
    {
     "data": {
      "text/html": [
       "<div>\n",
       "<style scoped>\n",
       "    .dataframe tbody tr th:only-of-type {\n",
       "        vertical-align: middle;\n",
       "    }\n",
       "\n",
       "    .dataframe tbody tr th {\n",
       "        vertical-align: top;\n",
       "    }\n",
       "\n",
       "    .dataframe thead th {\n",
       "        text-align: right;\n",
       "    }\n",
       "</style>\n",
       "<table border=\"1\" class=\"dataframe\">\n",
       "  <thead>\n",
       "    <tr style=\"text-align: right;\">\n",
       "      <th></th>\n",
       "      <th>a</th>\n",
       "      <th>b</th>\n",
       "      <th>c</th>\n",
       "      <th>d</th>\n",
       "    </tr>\n",
       "  </thead>\n",
       "  <tbody>\n",
       "    <tr>\n",
       "      <th>0</th>\n",
       "      <td>0.64</td>\n",
       "      <td>0.45</td>\n",
       "      <td>0.95</td>\n",
       "      <td>0.26</td>\n",
       "    </tr>\n",
       "    <tr>\n",
       "      <th>1</th>\n",
       "      <td>0.04</td>\n",
       "      <td>NaN</td>\n",
       "      <td>0.52</td>\n",
       "      <td>0.50</td>\n",
       "    </tr>\n",
       "    <tr>\n",
       "      <th>2</th>\n",
       "      <td>0.28</td>\n",
       "      <td>0.81</td>\n",
       "      <td>0.22</td>\n",
       "      <td>0.84</td>\n",
       "    </tr>\n",
       "  </tbody>\n",
       "</table>\n",
       "</div>"
      ],
      "text/plain": [
       "      a     b     c     d\n",
       "0  0.64  0.45  0.95  0.26\n",
       "1  0.04   NaN  0.52  0.50\n",
       "2  0.28  0.81  0.22  0.84"
      ]
     },
     "execution_count": 4,
     "metadata": {},
     "output_type": "execute_result"
    }
   ],
   "source": [
    "df.loc[1]['b']=np.nan\n",
    "df"
   ]
  },
  {
   "cell_type": "code",
   "execution_count": 7,
   "metadata": {},
   "outputs": [
    {
     "data": {
      "text/html": [
       "<div>\n",
       "<style scoped>\n",
       "    .dataframe tbody tr th:only-of-type {\n",
       "        vertical-align: middle;\n",
       "    }\n",
       "\n",
       "    .dataframe tbody tr th {\n",
       "        vertical-align: top;\n",
       "    }\n",
       "\n",
       "    .dataframe thead th {\n",
       "        text-align: right;\n",
       "    }\n",
       "</style>\n",
       "<table border=\"1\" class=\"dataframe\">\n",
       "  <thead>\n",
       "    <tr style=\"text-align: right;\">\n",
       "      <th></th>\n",
       "      <th>a</th>\n",
       "      <th>b</th>\n",
       "      <th>c</th>\n",
       "      <th>d</th>\n",
       "    </tr>\n",
       "  </thead>\n",
       "  <tbody>\n",
       "    <tr>\n",
       "      <th>0</th>\n",
       "      <td>0.64</td>\n",
       "      <td>0.45</td>\n",
       "      <td>0.95</td>\n",
       "      <td>0.26</td>\n",
       "    </tr>\n",
       "    <tr>\n",
       "      <th>2</th>\n",
       "      <td>0.28</td>\n",
       "      <td>0.81</td>\n",
       "      <td>0.22</td>\n",
       "      <td>0.84</td>\n",
       "    </tr>\n",
       "  </tbody>\n",
       "</table>\n",
       "</div>"
      ],
      "text/plain": [
       "      a     b     c     d\n",
       "0  0.64  0.45  0.95  0.26\n",
       "2  0.28  0.81  0.22  0.84"
      ]
     },
     "execution_count": 7,
     "metadata": {},
     "output_type": "execute_result"
    }
   ],
   "source": [
    "cleaned = df.dropna()\n",
    "cleaned"
   ]
  },
  {
   "cell_type": "markdown",
   "metadata": {},
   "source": [
    "##### 결측치를 다른 값으로 대체하는 방법\n",
    "0으로 채우는방법"
   ]
  },
  {
   "cell_type": "code",
   "execution_count": 9,
   "metadata": {},
   "outputs": [
    {
     "data": {
      "text/html": [
       "<div>\n",
       "<style scoped>\n",
       "    .dataframe tbody tr th:only-of-type {\n",
       "        vertical-align: middle;\n",
       "    }\n",
       "\n",
       "    .dataframe tbody tr th {\n",
       "        vertical-align: top;\n",
       "    }\n",
       "\n",
       "    .dataframe thead th {\n",
       "        text-align: right;\n",
       "    }\n",
       "</style>\n",
       "<table border=\"1\" class=\"dataframe\">\n",
       "  <thead>\n",
       "    <tr style=\"text-align: right;\">\n",
       "      <th></th>\n",
       "      <th>a</th>\n",
       "      <th>b</th>\n",
       "      <th>c</th>\n",
       "      <th>d</th>\n",
       "    </tr>\n",
       "  </thead>\n",
       "  <tbody>\n",
       "    <tr>\n",
       "      <th>0</th>\n",
       "      <td>0.64</td>\n",
       "      <td>0.45</td>\n",
       "      <td>0.95</td>\n",
       "      <td>0.26</td>\n",
       "    </tr>\n",
       "    <tr>\n",
       "      <th>1</th>\n",
       "      <td>0.04</td>\n",
       "      <td>0.00</td>\n",
       "      <td>0.52</td>\n",
       "      <td>0.50</td>\n",
       "    </tr>\n",
       "    <tr>\n",
       "      <th>2</th>\n",
       "      <td>0.28</td>\n",
       "      <td>0.81</td>\n",
       "      <td>0.22</td>\n",
       "      <td>0.84</td>\n",
       "    </tr>\n",
       "  </tbody>\n",
       "</table>\n",
       "</div>"
      ],
      "text/plain": [
       "      a     b     c     d\n",
       "0  0.64  0.45  0.95  0.26\n",
       "1  0.04  0.00  0.52  0.50\n",
       "2  0.28  0.81  0.22  0.84"
      ]
     },
     "execution_count": 9,
     "metadata": {},
     "output_type": "execute_result"
    }
   ],
   "source": [
    "df_2=df.fillna(0)\n",
    "df_2"
   ]
  },
  {
   "cell_type": "markdown",
   "metadata": {},
   "source": [
    "평균값으로 채우는방법"
   ]
  },
  {
   "cell_type": "code",
   "execution_count": 13,
   "metadata": {},
   "outputs": [
    {
     "data": {
      "text/html": [
       "<div>\n",
       "<style scoped>\n",
       "    .dataframe tbody tr th:only-of-type {\n",
       "        vertical-align: middle;\n",
       "    }\n",
       "\n",
       "    .dataframe tbody tr th {\n",
       "        vertical-align: top;\n",
       "    }\n",
       "\n",
       "    .dataframe thead th {\n",
       "        text-align: right;\n",
       "    }\n",
       "</style>\n",
       "<table border=\"1\" class=\"dataframe\">\n",
       "  <thead>\n",
       "    <tr style=\"text-align: right;\">\n",
       "      <th></th>\n",
       "      <th>a</th>\n",
       "      <th>b</th>\n",
       "      <th>c</th>\n",
       "      <th>d</th>\n",
       "    </tr>\n",
       "  </thead>\n",
       "  <tbody>\n",
       "    <tr>\n",
       "      <th>0</th>\n",
       "      <td>0.64</td>\n",
       "      <td>0.45</td>\n",
       "      <td>0.95</td>\n",
       "      <td>0.26</td>\n",
       "    </tr>\n",
       "    <tr>\n",
       "      <th>1</th>\n",
       "      <td>0.04</td>\n",
       "      <td>0.63</td>\n",
       "      <td>0.52</td>\n",
       "      <td>0.50</td>\n",
       "    </tr>\n",
       "    <tr>\n",
       "      <th>2</th>\n",
       "      <td>0.28</td>\n",
       "      <td>0.81</td>\n",
       "      <td>0.22</td>\n",
       "      <td>0.84</td>\n",
       "    </tr>\n",
       "  </tbody>\n",
       "</table>\n",
       "</div>"
      ],
      "text/plain": [
       "      a     b     c     d\n",
       "0  0.64  0.45  0.95  0.26\n",
       "1  0.04  0.63  0.52  0.50\n",
       "2  0.28  0.81  0.22  0.84"
      ]
     },
     "execution_count": 13,
     "metadata": {},
     "output_type": "execute_result"
    }
   ],
   "source": [
    "data2=df.fillna(df.mean())\n",
    "data2"
   ]
  },
  {
   "cell_type": "code",
   "execution_count": 14,
   "metadata": {},
   "outputs": [
    {
     "data": {
      "text/html": [
       "<div>\n",
       "<style scoped>\n",
       "    .dataframe tbody tr th:only-of-type {\n",
       "        vertical-align: middle;\n",
       "    }\n",
       "\n",
       "    .dataframe tbody tr th {\n",
       "        vertical-align: top;\n",
       "    }\n",
       "\n",
       "    .dataframe thead th {\n",
       "        text-align: right;\n",
       "    }\n",
       "</style>\n",
       "<table border=\"1\" class=\"dataframe\">\n",
       "  <thead>\n",
       "    <tr style=\"text-align: right;\">\n",
       "      <th></th>\n",
       "      <th>a</th>\n",
       "      <th>b</th>\n",
       "      <th>c</th>\n",
       "      <th>d</th>\n",
       "    </tr>\n",
       "  </thead>\n",
       "  <tbody>\n",
       "    <tr>\n",
       "      <th>0</th>\n",
       "      <td>0.64</td>\n",
       "      <td>0.45</td>\n",
       "      <td>0.95</td>\n",
       "      <td>0.26</td>\n",
       "    </tr>\n",
       "    <tr>\n",
       "      <th>1</th>\n",
       "      <td>0.04</td>\n",
       "      <td>0.63</td>\n",
       "      <td>0.52</td>\n",
       "      <td>0.50</td>\n",
       "    </tr>\n",
       "    <tr>\n",
       "      <th>2</th>\n",
       "      <td>0.28</td>\n",
       "      <td>0.81</td>\n",
       "      <td>0.22</td>\n",
       "      <td>0.84</td>\n",
       "    </tr>\n",
       "  </tbody>\n",
       "</table>\n",
       "</div>"
      ],
      "text/plain": [
       "      a     b     c     d\n",
       "0  0.64  0.45  0.95  0.26\n",
       "1  0.04  0.63  0.52  0.50\n",
       "2  0.28  0.81  0.22  0.84"
      ]
     },
     "execution_count": 14,
     "metadata": {},
     "output_type": "execute_result"
    }
   ],
   "source": [
    "df[df.isnull()] = df.mean(0)['b'] ; df"
   ]
  },
  {
   "cell_type": "markdown",
   "metadata": {},
   "source": [
    "앞에있는값으로 채우는방법"
   ]
  },
  {
   "cell_type": "code",
   "execution_count": 19,
   "metadata": {},
   "outputs": [
    {
     "data": {
      "text/html": [
       "<div>\n",
       "<style scoped>\n",
       "    .dataframe tbody tr th:only-of-type {\n",
       "        vertical-align: middle;\n",
       "    }\n",
       "\n",
       "    .dataframe tbody tr th {\n",
       "        vertical-align: top;\n",
       "    }\n",
       "\n",
       "    .dataframe thead th {\n",
       "        text-align: right;\n",
       "    }\n",
       "</style>\n",
       "<table border=\"1\" class=\"dataframe\">\n",
       "  <thead>\n",
       "    <tr style=\"text-align: right;\">\n",
       "      <th></th>\n",
       "      <th>a</th>\n",
       "      <th>b</th>\n",
       "      <th>c</th>\n",
       "      <th>d</th>\n",
       "    </tr>\n",
       "  </thead>\n",
       "  <tbody>\n",
       "    <tr>\n",
       "      <th>0</th>\n",
       "      <td>0.64</td>\n",
       "      <td>0.45</td>\n",
       "      <td>0.95</td>\n",
       "      <td>0.26</td>\n",
       "    </tr>\n",
       "    <tr>\n",
       "      <th>1</th>\n",
       "      <td>0.04</td>\n",
       "      <td>0.45</td>\n",
       "      <td>0.52</td>\n",
       "      <td>0.50</td>\n",
       "    </tr>\n",
       "    <tr>\n",
       "      <th>2</th>\n",
       "      <td>0.28</td>\n",
       "      <td>0.81</td>\n",
       "      <td>0.22</td>\n",
       "      <td>0.84</td>\n",
       "    </tr>\n",
       "  </tbody>\n",
       "</table>\n",
       "</div>"
      ],
      "text/plain": [
       "      a     b     c     d\n",
       "0  0.64  0.45  0.95  0.26\n",
       "1  0.04  0.45  0.52  0.50\n",
       "2  0.28  0.81  0.22  0.84"
      ]
     },
     "execution_count": 19,
     "metadata": {},
     "output_type": "execute_result"
    }
   ],
   "source": [
    "df.loc[1]['b']=np.nan\n",
    "df.fillna(method='ffill')"
   ]
  },
  {
   "cell_type": "markdown",
   "metadata": {},
   "source": [
    "####  틀린 값 처리\n",
    "- 틀린 값이 포함된 항목을 모두 버리는 방법\n",
    "- 틀린 값을 적절한 값으로 대체\n",
    "- 분석 단계로 틀린 값 처리를 넘김\n"
   ]
  },
  {
   "cell_type": "markdown",
   "metadata": {},
   "source": [
    "####  이상치 처리\n",
    "- 이상치란 값의 범위가 일반적인 범위를 벗어나 특별한 값을 갖는 것을 말한다.\n",
    "- 이상치를 찾아내는 것을 이상치 검출이라고 하는데 이는 도난당한 카드의 사용을 찾아내거나, 불법으로 보험료를 청구하는 것을 찾거나, 기계가 이상한 동작을 하는 것을 찾는데 사용된다. 즉, 이상치 검출은 데이터 전처리에서 다루는 것이 아니며, 데이터 분석 단계로 넘겨야 한다."
   ]
  },
  {
   "cell_type": "markdown",
   "metadata": {},
   "source": [
    "####  스케일링\n",
    "- 스케일링 이란 원래 데이터가 갖는 값의 범위를 다르게 조정하는 작업을 말한다. 스케일링을 하는 이유는 여러 가지 특성 변수를 같이 사용하여 머신러닝을 할 때 각 특성의 중요도를 갖게 맞추기 위해서이다.\n",
    "\n",
    "##### 최소 최대 스케일링\n",
    "- 주어진 값의 최소값을 0으로 최대값을 1로 조정하는 것을 최소-최대(min-max) 스케일링이라고 한다. MInMaxScaler() 함수를 사용한다.\n",
    "\n",
    "##### 표준화 스케일링\n",
    "- 주어진 샘플의 평균치를 0이 되도록, 표준편차가 1이 되도록 변환하는 스케일링을 표준화 라고 하며 z-score 정규화라고도 한다."
   ]
  }
 ],
 "metadata": {
  "kernelspec": {
   "display_name": "Python 3",
   "language": "python",
   "name": "python3"
  },
  "language_info": {
   "codemirror_mode": {
    "name": "ipython",
    "version": 3
   },
   "file_extension": ".py",
   "mimetype": "text/x-python",
   "name": "python",
   "nbconvert_exporter": "python",
   "pygments_lexer": "ipython3",
   "version": "3.8.5"
  }
 },
 "nbformat": 4,
 "nbformat_minor": 4
}
